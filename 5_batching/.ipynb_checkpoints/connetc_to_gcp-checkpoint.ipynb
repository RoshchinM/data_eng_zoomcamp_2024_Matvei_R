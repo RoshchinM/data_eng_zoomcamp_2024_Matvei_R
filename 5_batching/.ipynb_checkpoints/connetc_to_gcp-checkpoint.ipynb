{
 "cells": [
  {
   "cell_type": "code",
   "execution_count": 1,
   "id": "a28dbecb-6b15-44f5-a08a-661423c639e8",
   "metadata": {},
   "outputs": [],
   "source": [
    "import pyspark\n",
    "from pyspark.sql import SparkSession\n",
    "from pyspark.conf import SparkConf\n",
    "from pyspark.context import SparkContext"
   ]
  },
  {
   "cell_type": "code",
   "execution_count": 2,
   "id": "e51c591b-e252-4b2d-8ff3-d2afb8efc7c2",
   "metadata": {},
   "outputs": [],
   "source": [
    "credentials_location = 'C:/Users\\Matvei_Roshchin/Desktop/zoomcamp/data_eng_zoomcamp_2024_Matvei_R/5_batching/taxy-rides-ny-412222-0b52b522e0b6.json'"
   ]
  },
  {
   "cell_type": "code",
   "execution_count": 3,
   "id": "1e071e9d-e513-4d7e-9413-9dcd6267e458",
   "metadata": {},
   "outputs": [],
   "source": [
    "conf = SparkConf() \\\n",
    "    .setMaster('local[*]') \\\n",
    "    .setAppName('test') \\\n",
    "    .set(\"spark.jars\", \"gsc-connector-hadoop3-2.2.5.jar\") \\\n",
    "    .set(\"spark.hadoop.google.cloud.auth.service.account.enable\", \"true\") \\\n",
    "    .set(\"spark.hadoop.google.cloud.auth.service.account.json.keyfile\", credentials_location)"
   ]
  },
  {
   "cell_type": "code",
   "execution_count": 4,
   "id": "57dc3445-c499-431f-b3da-72dae8df8b91",
   "metadata": {},
   "outputs": [],
   "source": [
    "sc = SparkContext(conf=conf)\n",
    "\n",
    "hadoop_conf = sc._jsc.hadoopConfiguration()\n",
    "\n",
    "hadoop_conf.set(\"fs.AbstractFileSystem.gs.impl\",  \"com.google.cloud.hadoop.fs.gcs.GoogleHadoopFS\")\n",
    "hadoop_conf.set(\"fs.gs.impl\", \"com.google.cloud.hadoop.fs.gcs.GoogleHadoopFileSystem\")\n",
    "hadoop_conf.set(\"fs.gs.auth.service.account.json.keyfile\", credentials_location)\n",
    "hadoop_conf.set(\"fs.gs.auth.service.account.enable\", \"true\")"
   ]
  },
  {
   "cell_type": "code",
   "execution_count": 5,
   "id": "ddd3b61d-16aa-4d98-93e6-9e34bc3cdf8d",
   "metadata": {},
   "outputs": [],
   "source": [
    "spark = SparkSession.builder \\\n",
    "    .config(conf=sc.getConf()) \\\n",
    "    .getOrCreate()"
   ]
  },
  {
   "cell_type": "code",
   "execution_count": 6,
   "id": "b27dba07-36ca-40ee-b000-ebe88b36433b",
   "metadata": {},
   "outputs": [],
   "source": [
    "df_green = spark.read.parquet('gs://mage-zoompamp-matvei-roshchin/pq/green/*/*')"
   ]
  },
  {
   "cell_type": "code",
   "execution_count": 7,
   "id": "44897d2d-2794-45f0-821a-04855e1cd0e3",
   "metadata": {},
   "outputs": [
    {
     "name": "stdout",
     "output_type": "stream",
     "text": [
      "+--------+--------------------+---------------------+------------------+----------+------------+------------+---------------+-------------+-----------+-----+-------+----------+------------+---------+---------------------+------------+------------+---------+--------------------+\n",
      "|VendorID|lpep_pickup_datetime|lpep_dropoff_datetime|store_and_fwd_flag|RatecodeID|PULocationID|DOLocationID|passenger_count|trip_distance|fare_amount|extra|mta_tax|tip_amount|tolls_amount|ehail_fee|improvement_surcharge|total_amount|payment_type|trip_type|congestion_surcharge|\n",
      "+--------+--------------------+---------------------+------------------+----------+------------+------------+---------------+-------------+-----------+-----+-------+----------+------------+---------+---------------------+------------+------------+---------+--------------------+\n",
      "|       2| 2020-01-22 13:18:32|  2020-01-22 13:45:58|                 N|         1|         244|          41|              1|         5.22|       22.0|  0.0|    0.5|       0.0|         0.0|     null|                  0.3|        22.8|           1|        1|                 0.0|\n",
      "|       2| 2020-01-23 17:54:10|  2020-01-23 18:01:02|                 N|         1|         236|         263|              1|         0.87|        6.5|  1.0|    0.5|       1.2|         0.0|     null|                  0.3|       12.25|           1|        1|                2.75|\n",
      "|       2| 2020-01-19 10:23:37|  2020-01-19 10:26:29|                 N|         1|         166|         166|              4|         0.63|        4.5|  0.0|    0.5|       0.0|         0.0|     null|                  0.3|         5.3|           2|        1|                 0.0|\n",
      "|       2| 2020-01-21 14:25:16|  2020-01-21 14:35:51|                 N|         1|         152|         238|              1|         2.71|       11.0|  0.0|    0.5|      2.91|         0.0|     null|                  0.3|       17.46|           1|        1|                2.75|\n",
      "|    null| 2020-01-07 09:46:00|  2020-01-07 09:59:00|              null|      null|          51|           3|           null|         2.13|      18.96| 2.75|    0.0|       0.0|         0.0|     null|                  0.3|       22.01|        null|     null|                null|\n",
      "|    null| 2020-01-10 08:19:00|  2020-01-10 09:15:00|              null|      null|          32|         186|           null|        17.93|      49.58|  0.0|    0.0|       0.0|         2.8|     null|                  0.3|       52.68|        null|     null|                null|\n",
      "|       2| 2020-01-15 10:57:40|  2020-01-15 11:33:06|                 N|         1|         130|         228|              3|        24.04|       64.5|  0.0|    0.5|     13.06|         0.0|     null|                  0.3|       78.36|           1|        1|                 0.0|\n",
      "|       2| 2020-01-26 16:52:02|  2020-01-26 17:03:01|                 N|         1|           7|         223|              1|         1.45|        8.5|  0.0|    0.5|      2.79|         0.0|     null|                  0.3|       12.09|           1|        1|                 0.0|\n",
      "|       2| 2020-01-24 21:57:19|  2020-01-24 22:27:38|                 N|         1|         244|          87|              1|        10.94|       34.0|  0.5|    0.5|      3.95|         0.0|     null|                  0.3|        42.0|           1|        1|                2.75|\n",
      "|       2| 2020-01-27 23:45:54|  2020-01-27 23:58:33|                 N|         1|          65|          62|              5|         3.18|       12.0|  0.5|    0.5|       2.0|         0.0|     null|                  0.3|        15.3|           1|        1|                 0.0|\n",
      "|       2| 2020-01-26 17:21:19|  2020-01-26 17:31:43|                 N|         1|          95|          95|              1|         1.86|        8.5|  0.0|    0.5|       0.0|         0.0|     null|                  0.3|         9.3|           2|        1|                 0.0|\n",
      "|       2| 2020-01-07 11:54:37|  2020-01-07 12:04:23|                 N|         1|         181|         195|              1|         1.75|        8.5|  0.0|    0.5|       0.0|         0.0|     null|                  0.3|         9.3|           2|        1|                 0.0|\n",
      "|    null| 2020-01-12 07:21:00|  2020-01-12 07:58:00|              null|      null|         240|          37|           null|        18.95|      40.47|  0.0|    0.5|       0.0|         0.0|     null|                  0.0|       40.97|        null|     null|                null|\n",
      "|    null| 2020-01-13 11:56:00|  2020-01-13 12:23:00|              null|      null|          75|         220|           null|         9.24|      34.86| 2.75|    0.0|       0.0|         2.8|     null|                  0.3|       40.71|        null|     null|                null|\n",
      "|       2| 2020-01-11 05:41:57|  2020-01-11 05:51:49|                 N|         5|         127|          69|              1|         3.37|        7.0|  0.0|    0.0|       0.0|         0.0|     null|                  0.3|         7.3|           2|        2|                 0.0|\n",
      "|    null| 2020-01-28 13:40:00|  2020-01-28 13:59:00|              null|      null|          25|          61|           null|         2.92|      20.73| 2.75|    0.5|       0.0|         0.0|     null|                  0.0|       23.98|        null|     null|                null|\n",
      "|    null| 2020-01-28 11:19:00|  2020-01-28 11:33:00|              null|      null|         212|          81|           null|         5.13|      22.59| 2.75|    0.5|       0.0|         0.0|     null|                  0.0|       25.84|        null|     null|                null|\n",
      "|       1| 2020-01-23 07:57:08|  2020-01-23 08:01:28|                 N|         1|         166|          24|              1|          1.0|        5.5|  0.0|    0.5|      1.26|         0.0|     null|                  0.3|        7.56|           1|        1|                 0.0|\n",
      "|       2| 2020-01-20 10:04:55|  2020-01-20 10:06:34|                 N|         1|          75|          75|              1|         0.59|        3.5|  0.0|    0.5|       0.0|         0.0|     null|                  0.3|         4.3|           2|        1|                 0.0|\n",
      "|    null| 2020-01-03 18:37:00|  2020-01-03 18:37:00|              null|      null|          81|          81|           null|          0.0|      22.26|  0.0|    0.5|       0.0|         0.0|     null|                  0.3|       23.06|        null|     null|                null|\n",
      "+--------+--------------------+---------------------+------------------+----------+------------+------------+---------------+-------------+-----------+-----+-------+----------+------------+---------+---------------------+------------+------------+---------+--------------------+\n",
      "only showing top 20 rows\n",
      "\n"
     ]
    }
   ],
   "source": [
    "df_green.show()"
   ]
  },
  {
   "cell_type": "code",
   "execution_count": null,
   "id": "266e251c-cd75-4ead-bc5b-d4d4c05f548a",
   "metadata": {},
   "outputs": [],
   "source": []
  }
 ],
 "metadata": {
  "kernelspec": {
   "display_name": "Python 3 (ipykernel)",
   "language": "python",
   "name": "python3"
  },
  "language_info": {
   "codemirror_mode": {
    "name": "ipython",
    "version": 3
   },
   "file_extension": ".py",
   "mimetype": "text/x-python",
   "name": "python",
   "nbconvert_exporter": "python",
   "pygments_lexer": "ipython3",
   "version": "3.9.0"
  }
 },
 "nbformat": 4,
 "nbformat_minor": 5
}
