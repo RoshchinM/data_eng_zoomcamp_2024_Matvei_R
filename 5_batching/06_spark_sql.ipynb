{
 "cells": [
  {
   "cell_type": "code",
   "execution_count": 33,
   "id": "c9911533-2d81-4e29-a88e-a7fa92e77f72",
   "metadata": {},
   "outputs": [
    {
     "name": "stdout",
     "output_type": "stream",
     "text": [
      "URL веб-интерфейса Spark UI: http://EPUSPRIW0A14.attlocal.net:4041\n"
     ]
    }
   ],
   "source": [
    "import pyspark\n",
    "from pyspark.sql import SparkSession\n",
    "# Создание сессии Spark\n",
    "spark = SparkSession.builder.appName(\"example\").getOrCreate()\n",
    "\n",
    "# Получение URL веб-интерфейса Spark UI\n",
    "ui_url = spark.sparkContext.uiWebUrl\n",
    "print(\"URL веб-интерфейса Spark UI:\", ui_url)\n",
    "\n",
    "spark = SparkSession.builder \\\n",
    "    .master(\"local[*]\") \\\n",
    "    .appName('test') \\\n",
    "    .getOrCreate()"
   ]
  },
  {
   "cell_type": "code",
   "execution_count": 2,
   "id": "6ef77253-bb53-4813-bc59-5a5492689707",
   "metadata": {},
   "outputs": [],
   "source": [
    "df_green = spark.read.parquet('data/pq/green/*/*')"
   ]
  },
  {
   "cell_type": "code",
   "execution_count": 3,
   "id": "74ea9d0c-517c-4e5b-8df9-6081783091e9",
   "metadata": {},
   "outputs": [],
   "source": [
    "df_yellow = spark.read.parquet('data/pq/yellow/*/*')"
   ]
  },
  {
   "cell_type": "code",
   "execution_count": 11,
   "id": "81dde43b-399e-40d1-8943-ef4d8215e3d4",
   "metadata": {},
   "outputs": [
    {
     "name": "stdout",
     "output_type": "stream",
     "text": [
      "root\n",
      " |-- VendorID: integer (nullable = true)\n",
      " |-- tpep_pickup_datetime: timestamp (nullable = true)\n",
      " |-- tpep_dropoff_datetime: timestamp (nullable = true)\n",
      " |-- passenger_count: integer (nullable = true)\n",
      " |-- trip_distance: double (nullable = true)\n",
      " |-- RatecodeID: integer (nullable = true)\n",
      " |-- store_and_fwd_flag: string (nullable = true)\n",
      " |-- PULocationID: integer (nullable = true)\n",
      " |-- DOLocationID: integer (nullable = true)\n",
      " |-- payment_type: integer (nullable = true)\n",
      " |-- fare_amount: double (nullable = true)\n",
      " |-- extra: double (nullable = true)\n",
      " |-- mta_tax: double (nullable = true)\n",
      " |-- tip_amount: double (nullable = true)\n",
      " |-- tolls_amount: double (nullable = true)\n",
      " |-- improvement_surcharge: double (nullable = true)\n",
      " |-- total_amount: double (nullable = true)\n",
      " |-- congestion_surcharge: double (nullable = true)\n",
      "\n"
     ]
    }
   ],
   "source": [
    "df_yellow.printSchema()"
   ]
  },
  {
   "cell_type": "code",
   "execution_count": 10,
   "id": "29ec67d2-1453-4215-b649-ff2341617207",
   "metadata": {},
   "outputs": [],
   "source": [
    "df_green = df_green \\\n",
    "    .withColumnRenamed('lpep_pickup_datetime', 'pickup_datetime') \\\n",
    "    .withColumnRenamed('lpep_dropoff_datetime', 'dropoff_datetime') "
   ]
  },
  {
   "cell_type": "code",
   "execution_count": 12,
   "id": "9f87085f-9411-44bc-9463-2835389be2c1",
   "metadata": {},
   "outputs": [],
   "source": [
    "df_yellow = df_yellow \\\n",
    "    .withColumnRenamed('tpep_pickup_datetime', 'pickup_datetime') \\\n",
    "    .withColumnRenamed('tpep_dropoff_datetime', 'dropoff_datetime') "
   ]
  },
  {
   "cell_type": "code",
   "execution_count": 16,
   "id": "e6b6f327-af01-48eb-a340-c219785acab5",
   "metadata": {},
   "outputs": [],
   "source": [
    "common_columns = []\n",
    "\n",
    "yellow_columns = set(df_yellow.columns)\n",
    "\n",
    "for col in df_green.columns:\n",
    "    if col in yellow_columns:\n",
    "        common_columns.append(col)"
   ]
  },
  {
   "cell_type": "code",
   "execution_count": 13,
   "id": "71132dc2-b29f-4fe5-8fe8-013fbccddb8a",
   "metadata": {},
   "outputs": [
    {
     "data": {
      "text/plain": [
       "{'DOLocationID',\n",
       " 'PULocationID',\n",
       " 'RatecodeID',\n",
       " 'VendorID',\n",
       " 'congestion_surcharge',\n",
       " 'dropoff_datetime',\n",
       " 'extra',\n",
       " 'fare_amount',\n",
       " 'improvement_surcharge',\n",
       " 'mta_tax',\n",
       " 'passenger_count',\n",
       " 'payment_type',\n",
       " 'pickup_datetime',\n",
       " 'store_and_fwd_flag',\n",
       " 'tip_amount',\n",
       " 'tolls_amount',\n",
       " 'total_amount',\n",
       " 'trip_distance'}"
      ]
     },
     "execution_count": 13,
     "metadata": {},
     "output_type": "execute_result"
    }
   ],
   "source": [
    "set(df_green.columns) & set(df_yellow.columns)"
   ]
  },
  {
   "cell_type": "code",
   "execution_count": 17,
   "id": "2e0e1478-e7d8-40b6-ba85-38fa2f7d4522",
   "metadata": {},
   "outputs": [
    {
     "data": {
      "text/plain": [
       "['VendorID',\n",
       " 'pickup_datetime',\n",
       " 'dropoff_datetime',\n",
       " 'store_and_fwd_flag',\n",
       " 'RatecodeID',\n",
       " 'PULocationID',\n",
       " 'DOLocationID',\n",
       " 'passenger_count',\n",
       " 'trip_distance',\n",
       " 'fare_amount',\n",
       " 'extra',\n",
       " 'mta_tax',\n",
       " 'tip_amount',\n",
       " 'tolls_amount',\n",
       " 'improvement_surcharge',\n",
       " 'total_amount',\n",
       " 'payment_type',\n",
       " 'congestion_surcharge']"
      ]
     },
     "execution_count": 17,
     "metadata": {},
     "output_type": "execute_result"
    }
   ],
   "source": [
    "common_columns"
   ]
  },
  {
   "cell_type": "code",
   "execution_count": 18,
   "id": "ccfd59b1-e2b4-4952-8ef6-2d5a7f59b280",
   "metadata": {},
   "outputs": [
    {
     "name": "stdout",
     "output_type": "stream",
     "text": [
      "+--------+-------------------+-------------------+------------------+----------+------------+------------+---------------+-------------+-----------+-----+-------+----------+------------+---------------------+------------+------------+--------------------+\n",
      "|VendorID|    pickup_datetime|   dropoff_datetime|store_and_fwd_flag|RatecodeID|PULocationID|DOLocationID|passenger_count|trip_distance|fare_amount|extra|mta_tax|tip_amount|tolls_amount|improvement_surcharge|total_amount|payment_type|congestion_surcharge|\n",
      "+--------+-------------------+-------------------+------------------+----------+------------+------------+---------------+-------------+-----------+-----+-------+----------+------------+---------------------+------------+------------+--------------------+\n",
      "|       2|2020-01-22 13:18:32|2020-01-22 13:45:58|                 N|         1|         244|          41|              1|         5.22|       22.0|  0.0|    0.5|       0.0|         0.0|                  0.3|        22.8|           1|                 0.0|\n",
      "|       2|2020-01-23 17:54:10|2020-01-23 18:01:02|                 N|         1|         236|         263|              1|         0.87|        6.5|  1.0|    0.5|       1.2|         0.0|                  0.3|       12.25|           1|                2.75|\n",
      "|       2|2020-01-19 10:23:37|2020-01-19 10:26:29|                 N|         1|         166|         166|              4|         0.63|        4.5|  0.0|    0.5|       0.0|         0.0|                  0.3|         5.3|           2|                 0.0|\n",
      "|       2|2020-01-21 14:25:16|2020-01-21 14:35:51|                 N|         1|         152|         238|              1|         2.71|       11.0|  0.0|    0.5|      2.91|         0.0|                  0.3|       17.46|           1|                2.75|\n",
      "|    NULL|2020-01-07 09:46:00|2020-01-07 09:59:00|              NULL|      NULL|          51|           3|           NULL|         2.13|      18.96| 2.75|    0.0|       0.0|         0.0|                  0.3|       22.01|        NULL|                NULL|\n",
      "|    NULL|2020-01-10 08:19:00|2020-01-10 09:15:00|              NULL|      NULL|          32|         186|           NULL|        17.93|      49.58|  0.0|    0.0|       0.0|         2.8|                  0.3|       52.68|        NULL|                NULL|\n",
      "|       2|2020-01-15 10:57:40|2020-01-15 11:33:06|                 N|         1|         130|         228|              3|        24.04|       64.5|  0.0|    0.5|     13.06|         0.0|                  0.3|       78.36|           1|                 0.0|\n",
      "|       2|2020-01-26 16:52:02|2020-01-26 17:03:01|                 N|         1|           7|         223|              1|         1.45|        8.5|  0.0|    0.5|      2.79|         0.0|                  0.3|       12.09|           1|                 0.0|\n",
      "|       2|2020-01-24 21:57:19|2020-01-24 22:27:38|                 N|         1|         244|          87|              1|        10.94|       34.0|  0.5|    0.5|      3.95|         0.0|                  0.3|        42.0|           1|                2.75|\n",
      "|       2|2020-01-27 23:45:54|2020-01-27 23:58:33|                 N|         1|          65|          62|              5|         3.18|       12.0|  0.5|    0.5|       2.0|         0.0|                  0.3|        15.3|           1|                 0.0|\n",
      "|       2|2020-01-26 17:21:19|2020-01-26 17:31:43|                 N|         1|          95|          95|              1|         1.86|        8.5|  0.0|    0.5|       0.0|         0.0|                  0.3|         9.3|           2|                 0.0|\n",
      "|       2|2020-01-07 11:54:37|2020-01-07 12:04:23|                 N|         1|         181|         195|              1|         1.75|        8.5|  0.0|    0.5|       0.0|         0.0|                  0.3|         9.3|           2|                 0.0|\n",
      "|    NULL|2020-01-12 07:21:00|2020-01-12 07:58:00|              NULL|      NULL|         240|          37|           NULL|        18.95|      40.47|  0.0|    0.5|       0.0|         0.0|                  0.0|       40.97|        NULL|                NULL|\n",
      "|    NULL|2020-01-13 11:56:00|2020-01-13 12:23:00|              NULL|      NULL|          75|         220|           NULL|         9.24|      34.86| 2.75|    0.0|       0.0|         2.8|                  0.3|       40.71|        NULL|                NULL|\n",
      "|       2|2020-01-11 05:41:57|2020-01-11 05:51:49|                 N|         5|         127|          69|              1|         3.37|        7.0|  0.0|    0.0|       0.0|         0.0|                  0.3|         7.3|           2|                 0.0|\n",
      "|    NULL|2020-01-28 13:40:00|2020-01-28 13:59:00|              NULL|      NULL|          25|          61|           NULL|         2.92|      20.73| 2.75|    0.5|       0.0|         0.0|                  0.0|       23.98|        NULL|                NULL|\n",
      "|    NULL|2020-01-28 11:19:00|2020-01-28 11:33:00|              NULL|      NULL|         212|          81|           NULL|         5.13|      22.59| 2.75|    0.5|       0.0|         0.0|                  0.0|       25.84|        NULL|                NULL|\n",
      "|       1|2020-01-23 07:57:08|2020-01-23 08:01:28|                 N|         1|         166|          24|              1|          1.0|        5.5|  0.0|    0.5|      1.26|         0.0|                  0.3|        7.56|           1|                 0.0|\n",
      "|       2|2020-01-20 10:04:55|2020-01-20 10:06:34|                 N|         1|          75|          75|              1|         0.59|        3.5|  0.0|    0.5|       0.0|         0.0|                  0.3|         4.3|           2|                 0.0|\n",
      "|    NULL|2020-01-03 18:37:00|2020-01-03 18:37:00|              NULL|      NULL|          81|          81|           NULL|          0.0|      22.26|  0.0|    0.5|       0.0|         0.0|                  0.3|       23.06|        NULL|                NULL|\n",
      "+--------+-------------------+-------------------+------------------+----------+------------+------------+---------------+-------------+-----------+-----+-------+----------+------------+---------------------+------------+------------+--------------------+\n",
      "only showing top 20 rows\n",
      "\n"
     ]
    }
   ],
   "source": [
    "df_green.select(common_columns).show()"
   ]
  },
  {
   "cell_type": "code",
   "execution_count": 19,
   "id": "1c6b05db-f00b-4836-a7ae-00597a53bce5",
   "metadata": {},
   "outputs": [],
   "source": [
    "from pyspark.sql import functions as F"
   ]
  },
  {
   "cell_type": "code",
   "execution_count": 21,
   "id": "c3b37346-6b0f-4bc0-bdfe-2c08ffe0668d",
   "metadata": {},
   "outputs": [],
   "source": [
    "df_green_sel = df_green \\\n",
    "    .select(common_columns) \\\n",
    "    .withColumn('service_type', F.lit('green'))"
   ]
  },
  {
   "cell_type": "code",
   "execution_count": 23,
   "id": "a7a9d748-7694-4e55-92ba-8975673205dd",
   "metadata": {},
   "outputs": [],
   "source": [
    "df_yellow_sel = df_yellow \\\n",
    "    .select(common_columns) \\\n",
    "    .withColumn('service_type', F.lit('yellow'))"
   ]
  },
  {
   "cell_type": "code",
   "execution_count": 24,
   "id": "12e4aec7-3f3e-4c5f-b17f-0c9197acf66d",
   "metadata": {},
   "outputs": [],
   "source": [
    "df_trips_data = df_green_sel.unionAll(df_yellow_sel)"
   ]
  },
  {
   "cell_type": "code",
   "execution_count": 25,
   "id": "a5c96aa2-82af-4bfa-8f68-0304a01f4021",
   "metadata": {},
   "outputs": [
    {
     "name": "stdout",
     "output_type": "stream",
     "text": [
      "+------------+--------+\n",
      "|service_type|   count|\n",
      "+------------+--------+\n",
      "|       green| 1734051|\n",
      "|      yellow|24648499|\n",
      "+------------+--------+\n",
      "\n"
     ]
    }
   ],
   "source": [
    "df_trips_data.groupBy('service_type').count().show()"
   ]
  },
  {
   "cell_type": "code",
   "execution_count": 27,
   "id": "036717fd-d4eb-46dd-b53a-6579d7d6e2aa",
   "metadata": {},
   "outputs": [],
   "source": [
    "df_trips_data.createOrReplaceTempView('trips_data')"
   ]
  },
  {
   "cell_type": "code",
   "execution_count": 28,
   "id": "1275e1fc-dd59-406e-84e4-ace0245fea14",
   "metadata": {},
   "outputs": [
    {
     "name": "stdout",
     "output_type": "stream",
     "text": [
      "+------------+--------+\n",
      "|service_type|count(1)|\n",
      "+------------+--------+\n",
      "|       green| 1734051|\n",
      "|      yellow|24648499|\n",
      "+------------+--------+\n",
      "\n"
     ]
    }
   ],
   "source": [
    "spark.sql(\"\"\"\n",
    "SELECT\n",
    "    service_type,\n",
    "    count(1)\n",
    "FROM\n",
    "    trips_data\n",
    "GROUP BY \n",
    "    service_type\n",
    "\"\"\").show()"
   ]
  },
  {
   "cell_type": "code",
   "execution_count": 29,
   "id": "b610e3ef-d223-4ec9-b5f6-598acfc315c0",
   "metadata": {},
   "outputs": [],
   "source": [
    "df_result = spark.sql(\"\"\"\n",
    "SELECT \n",
    "    -- Reveneue grouping \n",
    "    PULocationID AS revenue_zone,\n",
    "    date_trunc('month', pickup_datetime) AS revenue_month, \n",
    "    service_type, \n",
    "\n",
    "    -- Revenue calculation \n",
    "    SUM(fare_amount) AS revenue_monthly_fare,\n",
    "    SUM(extra) AS revenue_monthly_extra,\n",
    "    SUM(mta_tax) AS revenue_monthly_mta_tax,\n",
    "    SUM(tip_amount) AS revenue_monthly_tip_amount,\n",
    "    SUM(tolls_amount) AS revenue_monthly_tolls_amount,\n",
    "    SUM(improvement_surcharge) AS revenue_monthly_improvement_surcharge,\n",
    "    SUM(total_amount) AS revenue_monthly_total_amount,\n",
    "    SUM(congestion_surcharge) AS revenue_monthly_congestion_surcharge,\n",
    "\n",
    "    -- Additional calculations\n",
    "    AVG(passenger_count) AS avg_montly_passenger_count,\n",
    "    AVG(trip_distance) AS avg_montly_trip_distance\n",
    "FROM\n",
    "    trips_data\n",
    "GROUP BY\n",
    "    1, 2, 3\n",
    "\"\"\")"
   ]
  },
  {
   "cell_type": "code",
   "execution_count": 31,
   "id": "80dc9d06-675c-44e8-9526-2d6c69f1d20c",
   "metadata": {},
   "outputs": [
    {
     "name": "stdout",
     "output_type": "stream",
     "text": [
      "+------------+-------------------+------------+--------------------+---------------------+-----------------------+--------------------------+----------------------------+-------------------------------------+----------------------------+------------------------------------+--------------------------+------------------------+\n",
      "|revenue_zone|      revenue_month|service_type|revenue_monthly_fare|revenue_monthly_extra|revenue_monthly_mta_tax|revenue_monthly_tip_amount|revenue_monthly_tolls_amount|revenue_monthly_improvement_surcharge|revenue_monthly_total_amount|revenue_monthly_congestion_surcharge|avg_montly_passenger_count|avg_montly_trip_distance|\n",
      "+------------+-------------------+------------+--------------------+---------------------+-----------------------+--------------------------+----------------------------+-------------------------------------+----------------------------+------------------------------------+--------------------------+------------------------+\n",
      "|         218|2020-01-01 00:00:00|       green|  24689.350000000126|              1561.75|                  121.5|                      18.7|           735.9000000000004|                    246.0000000000036|          27375.149999999958|                                 0.0|        1.0754716981132075|       6.732052451539335|\n",
      "|          85|2020-01-01 00:00:00|       green|   19874.88000000006|               1476.5|                  187.5|        165.89999999999998|           354.6800000000002|                   233.70000000000314|            22320.9099999999|                                11.0|        1.3349753694581281|      4.4563455149501605|\n",
      "|         116|2019-12-01 00:00:00|       green|               21.59|                  1.0|                    1.0|                      4.95|                         0.0|                   0.8999999999999999|          29.439999999999998|                                 0.0|                       1.0|      0.6366666666666666|\n",
      "|         112|2020-01-01 00:00:00|       green|  21761.030000000017|               1034.0|                  703.0|        2487.4200000000014|           308.6100000000001|                    452.7000000000114|           27470.10999999962|                              742.25|        1.2766407904022583|      3.4783365695792865|\n",
      "|          39|2020-01-01 00:00:00|       green|   60305.34999999994|               3876.0|                  491.0|                     29.63|          1069.9199999999996|                    561.0000000000063|           66334.85000000037|                                 0.0|        1.2745098039215685|       6.203130280124502|\n",
      "|          26|2020-01-01 00:00:00|       green|   27098.79000000009|              1743.25|                  221.5|        121.73000000000002|           551.2800000000003|                   292.50000000000534|           30034.89999999984|                                 0.0|        1.1054852320675106|       4.771315789473691|\n",
      "|         165|2020-01-01 00:00:00|       green|  24802.129999999997|               1549.0|                  189.5|        101.14999999999998|          495.95000000000033|                   268.80000000000445|           27427.27999999993|                                11.0|        1.1891891891891893|       4.462666025024061|\n",
      "|         193|2020-01-01 00:00:00|       green|  22288.570000000032|              1121.25|                  659.0|        1335.6800000000003|           232.4600000000001|                    497.7000000000131|           27003.40999999962|                               253.0|        1.1738019169329073|      2.6420300362506453|\n",
      "|         124|2020-01-01 00:00:00|       green|   7916.269999999997|                464.5|                   52.5|                     15.56|          285.27000000000004|                    74.99999999999964|                      8809.1|                                 0.0|        1.0185185185185186|        7.09040590405904|\n",
      "|         244|2020-01-01 00:00:00|       green|   186755.7100000006|              6773.25|                 4933.0|        19220.349999999868|           3665.569999999985|                    3244.200000000506|           232629.0299999776|                              8997.5|          1.33827209930924|       4.355255763688768|\n",
      "|         136|2020-01-01 00:00:00|       green|   26839.71000000001|               1675.5|                  215.0|                      93.9|           692.2500000000002|                   273.90000000000464|          29808.709999999803|                                16.5|        1.1654411764705883|       5.947148325358854|\n",
      "|          95|2010-09-01 00:00:00|       green|                31.0|                  1.0|                    1.5|                      4.16|                         0.0|                   0.8999999999999999|                       38.56|                                 0.0|                       1.0|       2.846666666666667|\n",
      "|         247|2020-01-01 00:00:00|       green|  27837.370000000046|               1591.5|                  531.0|         485.2900000000001|           708.8400000000004|                    457.8000000000116|            31761.5999999995|                               148.5|        1.1879327398615231|       3.815812958435207|\n",
      "|         121|2020-01-01 00:00:00|       green|  18831.290000000045|               1216.5|                  128.0|        196.23999999999998|          230.40000000000006|                   227.70000000000292|          20848.479999999916|                                2.75|        1.1111111111111112|       4.544999999999996|\n",
      "|         149|2020-01-01 00:00:00|       green|  12270.669999999987|                845.5|                  117.0|                     19.43|          248.35000000000014|                    132.5999999999993|          13639.050000000023|                                 5.5|        1.0707964601769913|       4.549273422562143|\n",
      "|         132|2020-01-01 00:00:00|       green|              2423.0|                  8.0|                   14.0|        255.29000000000002|          48.959999999999994|                   19.500000000000025|                     2774.25|                                 5.5|        1.2121212121212122|       5.179848484848484|\n",
      "|         206|2020-01-01 00:00:00|       green|  1144.8600000000004|                29.25|                   12.0|                      7.68|           265.0400000000001|                    9.600000000000001|          1468.4299999999998|                                 0.0|        1.4761904761904763|               9.4615625|\n",
      "|          41|2019-12-01 00:00:00|       green|                20.5|                  1.5|                    1.5|                       0.0|                         0.0|                   0.8999999999999999|          27.150000000000002|                                2.75|                       1.0|      1.2633333333333334|\n",
      "|          74|2020-02-01 00:00:00|       green|   340842.2000000023|              15652.5|                14904.0|                  38288.46|           6193.129999999914|                     9263.40000000091|           443587.4399998652|                            22380.75|        1.3394981505548336|      2.3330956047481632|\n",
      "|         190|2020-01-01 00:00:00|       green|   3786.019999999999|                175.0|                   76.5|                    242.16|                       24.48|                    62.69999999999976|           4419.360000000004|                               35.75|        1.4244604316546763|        3.55069124423963|\n",
      "+------------+-------------------+------------+--------------------+---------------------+-----------------------+--------------------------+----------------------------+-------------------------------------+----------------------------+------------------------------------+--------------------------+------------------------+\n",
      "only showing top 20 rows\n",
      "\n"
     ]
    }
   ],
   "source": [
    "df_result.show()"
   ]
  },
  {
   "cell_type": "code",
   "execution_count": 32,
   "id": "482159ef-9a10-40a9-8bc6-5a1117a52377",
   "metadata": {},
   "outputs": [],
   "source": [
    "df_result.coalesce(1).write.parquet('data/report/revenue/', mode='overwrite')"
   ]
  },
  {
   "cell_type": "code",
   "execution_count": null,
   "id": "7b089587-8ea0-4943-aeea-a8ab0bab29a2",
   "metadata": {},
   "outputs": [],
   "source": []
  }
 ],
 "metadata": {
  "kernelspec": {
   "display_name": "Python 3 (ipykernel)",
   "language": "python",
   "name": "python3"
  },
  "language_info": {
   "codemirror_mode": {
    "name": "ipython",
    "version": 3
   },
   "file_extension": ".py",
   "mimetype": "text/x-python",
   "name": "python",
   "nbconvert_exporter": "python",
   "pygments_lexer": "ipython3",
   "version": "3.9.0"
  }
 },
 "nbformat": 4,
 "nbformat_minor": 5
}
